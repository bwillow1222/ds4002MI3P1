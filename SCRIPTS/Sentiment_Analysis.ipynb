{
  "nbformat": 4,
  "nbformat_minor": 0,
  "metadata": {
    "colab": {
      "provenance": []
    },
    "kernelspec": {
      "name": "python3",
      "display_name": "Python 3"
    },
    "language_info": {
      "name": "python"
    }
  },
  "cells": [
    {
      "cell_type": "code",
      "execution_count": 1,
      "metadata": {
        "id": "aXQs9al2trH-",
        "colab": {
          "base_uri": "https://localhost:8080/"
        },
        "outputId": "8022d8d5-2b49-40e9-ad85-fb7c52e08aec"
      },
      "outputs": [
        {
          "output_type": "stream",
          "name": "stdout",
          "text": [
            "Collecting vaderSentiment\n",
            "  Downloading vaderSentiment-3.3.2-py2.py3-none-any.whl.metadata (572 bytes)\n",
            "Requirement already satisfied: requests in /usr/local/lib/python3.10/dist-packages (from vaderSentiment) (2.32.3)\n",
            "Requirement already satisfied: charset-normalizer<4,>=2 in /usr/local/lib/python3.10/dist-packages (from requests->vaderSentiment) (3.3.2)\n",
            "Requirement already satisfied: idna<4,>=2.5 in /usr/local/lib/python3.10/dist-packages (from requests->vaderSentiment) (3.10)\n",
            "Requirement already satisfied: urllib3<3,>=1.21.1 in /usr/local/lib/python3.10/dist-packages (from requests->vaderSentiment) (2.2.3)\n",
            "Requirement already satisfied: certifi>=2017.4.17 in /usr/local/lib/python3.10/dist-packages (from requests->vaderSentiment) (2024.8.30)\n",
            "Downloading vaderSentiment-3.3.2-py2.py3-none-any.whl (125 kB)\n",
            "\u001b[2K   \u001b[90m━━━━━━━━━━━━━━━━━━━━━━━━━━━━━━━━━━━━━━━━\u001b[0m \u001b[32m126.0/126.0 kB\u001b[0m \u001b[31m5.6 MB/s\u001b[0m eta \u001b[36m0:00:00\u001b[0m\n",
            "\u001b[?25hInstalling collected packages: vaderSentiment\n",
            "Successfully installed vaderSentiment-3.3.2\n",
            "Sentiment analysis complete. Results saved to Scored_Data.csv\n"
          ]
        }
      ],
      "source": [
        "\n",
        "!pip install vaderSentiment\n",
        "\n",
        "import csv\n",
        "from vaderSentiment.vaderSentiment import SentimentIntensityAnalyzer\n",
        "\n",
        "analyzer = SentimentIntensityAnalyzer()\n",
        "\n",
        "def analyze_sentiment(text):\n",
        "  \"\"\"Analyzes the sentiment of the given text using VADER.\"\"\"\n",
        "  scores = analyzer.polarity_scores(text)\n",
        "  return scores['compound']\n",
        "\n",
        "def process_csv(input_file, output_file):\n",
        "  \"\"\"Processes the CSV file, analyzing sentiment and updating the Score column.\"\"\"\n",
        "  with open(input_file, 'r', encoding='utf-8') as infile, \\\n",
        "       open(output_file, 'w', encoding='utf-8', newline='') as outfile:\n",
        "    reader = csv.DictReader(infile)\n",
        "    fieldnames = reader.fieldnames + ['Score']\n",
        "    writer = csv.DictWriter(outfile, fieldnames=fieldnames)\n",
        "    writer.writeheader()\n",
        "\n",
        "    for row in reader:\n",
        "      speech = row.get('Speech', '')\n",
        "      score = analyze_sentiment(speech)\n",
        "      row['Score'] = score\n",
        "      writer.writerow(row)\n",
        "\n",
        "# Replace 'input.csv' and 'output.csv' with your actual file names.\n",
        "input_file = 'Processed_Transcripts_Data.csv'\n",
        "output_file = 'Scored_Data.csv'\n",
        "\n",
        "process_csv(input_file, output_file)\n",
        "\n",
        "print(f\"Sentiment analysis complete. Results saved to {output_file}\")\n"
      ]
    }
  ]
}
