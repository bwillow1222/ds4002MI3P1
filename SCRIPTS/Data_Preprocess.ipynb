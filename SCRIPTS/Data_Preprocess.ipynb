{
  "nbformat": 4,
  "nbformat_minor": 0,
  "metadata": {
    "colab": {
      "provenance": []
    },
    "kernelspec": {
      "name": "python3",
      "display_name": "Python 3"
    },
    "language_info": {
      "name": "python"
    }
  },
  "cells": [
    {
      "cell_type": "markdown",
      "source": [
        "Three following blocks of code, each one goes through a transcript and generates a csv file of data. The first block is for the debate, the second for Harris's speech in Philadelphia, and the third for Trump's speech in Wisconsin."
      ],
      "metadata": {
        "id": "k0-LI6KHCyS3"
      }
    },
    {
      "cell_type": "code",
      "execution_count": 2,
      "metadata": {
        "id": "SKnxXGoGzlEA"
      },
      "outputs": [],
      "source": [
        "import csv\n",
        "\n",
        "# Function to process the transcript\n",
        "def process_transcript(input_file, output_file):\n",
        "    with open(input_file, 'r') as file:\n",
        "        lines = file.readlines()\n",
        "\n",
        "    # List to store rows of data\n",
        "    data = []\n",
        "\n",
        "    for line in lines:\n",
        "        # Split the line at the first colon to separate the speaker from the speech\n",
        "        if ':' in line:\n",
        "            speaker, speech = line.split(':', 1)\n",
        "            speaker = speaker.strip()  # Remove any extra spaces around the speaker's name\n",
        "            speech = speech.strip()  # Remove any extra spaces around the speech\n",
        "\n",
        "            # Skip if the speaker is David Muir or Linsey Davis\n",
        "            if speaker.upper() in ['DAVID MUIR', 'LINSEY DAVIS']:\n",
        "                continue\n",
        "\n",
        "            # Rename \"FORMER PRESIDENT DONALD TRUMP\" to \"Trump\"\n",
        "            if speaker.upper() == \"FORMER PRESIDENT DONALD TRUMP\":\n",
        "                speaker = \"Trump\"\n",
        "\n",
        "            # Rename \"VICE PRESIDENT KAMALA HARRIS\" to \"Harris\"\n",
        "            if speaker.upper() == \"VICE PRESIDENT KAMALA HARRIS\":\n",
        "                speaker = \"Harris\"\n",
        "\n",
        "            # Append the processed speaker and speech to the data list\n",
        "            data.append([speaker, speech])\n",
        "\n",
        "    # Writing to a CSV file\n",
        "    with open(output_file, 'w', newline='', encoding='utf-8') as csv_file:\n",
        "        writer = csv.writer(csv_file)\n",
        "        # Write the header\n",
        "        writer.writerow([\"Speaker\", \"Speech\"])\n",
        "        # Write the data\n",
        "        writer.writerows(data)\n",
        "\n",
        "# Example usage\n",
        "input_file = 'Debate_Transcript.txt'  # Path to the input txt file\n",
        "output_file = 'debate.csv'  # Path to the output csv file\n",
        "\n",
        "process_transcript(input_file, output_file)\n"
      ]
    },
    {
      "cell_type": "code",
      "source": [
        "import csv\n",
        "\n",
        "# Function to process the transcript\n",
        "def process_transcript(input_file, output_file):\n",
        "    with open(input_file, 'r') as file:\n",
        "        lines = file.readlines()\n",
        "\n",
        "    # List to store rows of data\n",
        "    data = []\n",
        "\n",
        "    for line in lines:\n",
        "        # Split the line at the first colon to separate the speaker from the speech\n",
        "        if ':' in line:\n",
        "            speaker, speech = line.split(':', 1)\n",
        "            speaker = speaker.strip()  # Remove any extra spaces around the speaker's name\n",
        "            speech = speech.strip()  # Remove any extra spaces around the speech\n",
        "\n",
        "            # Append the processed speaker and speech to the data list\n",
        "            data.append([speaker, speech])\n",
        "\n",
        "    # Writing to a CSV file\n",
        "    with open(output_file, 'w', newline='', encoding='utf-8') as csv_file:\n",
        "        writer = csv.writer(csv_file)\n",
        "        # Write the header\n",
        "        writer.writerow([\"Speaker\", \"Speech\"])\n",
        "        # Write the data\n",
        "        writer.writerows(data)\n",
        "\n",
        "# Example usage\n",
        "input_file = 'Harris_Philadelphia_Transcript.txt'  # Path to the input txt file\n",
        "output_file = 'philadelphia.csv'  # Path to the output csv file\n",
        "\n",
        "process_transcript(input_file, output_file)\n"
      ],
      "metadata": {
        "id": "twpwRIz5FxSw"
      },
      "execution_count": 6,
      "outputs": []
    },
    {
      "cell_type": "code",
      "source": [
        "import csv\n",
        "import re\n",
        "\n",
        "def process_transcript(input_file, output_file):\n",
        "    \"\"\"\n",
        "    Processes a transcript text file and outputs a CSV file with paragraphs.\n",
        "\n",
        "    Args:\n",
        "        input_file: Path to the input transcript text file.\n",
        "        output_file: Path to the output CSV file.\n",
        "    \"\"\"\n",
        "    with open(input_file, 'r', encoding='utf-8') as file:\n",
        "        transcript = file.read()\n",
        "\n",
        "    # Regular expression to identify paragraphs (ignoring timestamps)\n",
        "    pattern = re.compile(r'\\n(.*?)(?=\\n\\(\\d{2}:\\d{2}|\\d{2}:\\d{2}:\\d{2}\\)|\\Z)', re.MULTILINE | re.DOTALL)\n",
        "\n",
        "    data = []\n",
        "    for match in pattern.finditer(transcript):\n",
        "        paragraph = match.group(1).strip()\n",
        "        if paragraph:  # Only add non-empty paragraphs\n",
        "            data.append([paragraph])\n",
        "\n",
        "    with open(output_file, 'w', newline='', encoding='utf-8') as csv_file:\n",
        "        writer = csv.writer(csv_file)\n",
        "        writer.writerow(['Paragraph'])  # Header row\n",
        "        writer.writerows(data)\n",
        "\n",
        "# Example usage\n",
        "input_file = 'Trump_Wisconsin_Transcript.txt'  # Replace with your input file name\n",
        "output_file = 'wisconsin.csv'  # Replace with your desired output file name\n",
        "\n",
        "process_transcript(input_file, output_file)\n"
      ],
      "metadata": {
        "id": "fUWOFyBp_gkj"
      },
      "execution_count": 9,
      "outputs": []
    }
  ]
}
