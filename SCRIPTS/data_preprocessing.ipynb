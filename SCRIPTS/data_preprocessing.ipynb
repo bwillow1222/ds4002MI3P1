{
  "nbformat": 4,
  "nbformat_minor": 0,
  "metadata": {
    "colab": {
      "provenance": [],
      "include_colab_link": true
    },
    "kernelspec": {
      "name": "python3",
      "display_name": "Python 3"
    },
    "language_info": {
      "name": "python"
    }
  },
  "cells": [
    {
      "cell_type": "markdown",
      "metadata": {
        "id": "view-in-github",
        "colab_type": "text"
      },
      "source": [
        "<a href=\"https://colab.research.google.com/github/bwillow1222/ds4002MI3P1/blob/main/SCRIPTS/data_preprocessing.ipynb\" target=\"_parent\"><img src=\"https://colab.research.google.com/assets/colab-badge.svg\" alt=\"Open In Colab\"/></a>"
      ]
    },
    {
      "cell_type": "code",
      "source": [
        "# prompt: Generate a python script that takes a txt file with a transcript and produces a csv. Each new paragraph in the transcript will be a new row in the csv. The csv will have one column for the Speaker, who said the thing, and one column for the Speech, the actual thing that was said.\n",
        "\n",
        "import csv\n",
        "import re\n",
        "\n",
        "def process_transcript(input_file, output_file):\n",
        "    \"\"\"\n",
        "    Processes a transcript text file and outputs a CSV file with speaker and speech.\n",
        "\n",
        "    Args:\n",
        "        input_file: Path to the input transcript text file.\n",
        "        output_file: Path to the output CSV file.\n",
        "    \"\"\"\n",
        "    with open(input_file, 'r', encoding='utf-8') as file:\n",
        "        transcript = file.read()\n",
        "\n",
        "    # Regular expression to identify speaker and speech\n",
        "    pattern = re.compile(r'([A-Za-z\\s]+)\\s*\\(\\d{2}:\\d{2}\\):\\s*([^()]+)')\n",
        "\n",
        "    data = []\n",
        "    for match in pattern.finditer(transcript):\n",
        "        speaker = match.group(1).strip()\n",
        "        speech = match.group(2).strip()\n",
        "        data.append([speaker, speech])\n",
        "\n",
        "    with open(output_file, 'w', newline='', encoding='utf-8') as csv_file:\n",
        "        writer = csv.writer(csv_file)\n",
        "        writer.writerow(['Speaker', 'Speech'])\n",
        "        writer.writerows(data)\n",
        "\n",
        "\n",
        "# Example usage\n",
        "input_file = 'Harris Philly Transcript.txt'  # Replace with your input file name\n",
        "output_file = 'philly_data.csv'  # Replace with your desired output file name\n",
        "\n",
        "process_transcript(input_file, output_file)\n"
      ],
      "metadata": {
        "id": "9pWI-NabFE3h"
      },
      "execution_count": null,
      "outputs": []
    }
  ]
}